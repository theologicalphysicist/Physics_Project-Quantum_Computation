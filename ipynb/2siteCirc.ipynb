{
 "cells": [
  {
   "cell_type": "code",
   "execution_count": 71,
   "metadata": {},
   "outputs": [
    {
     "data": {
      "text/html": [
       "<pre style=\"word-wrap: normal;white-space: pre;background: #fff0;line-height: 1.1;font-family: &quot;Courier New&quot;,Courier,monospace\">     ┌───────────┐┌───────────┐                    \n",
       "q_0: ┤0          ├┤0          ├─■──────────────────\n",
       "     │  Ryy(0.3) ││  Rxx(0.3) │ │                  \n",
       "q_1: ┤1          ├┤1          ├─┼─────────■────────\n",
       "     └───────────┘└───────────┘ │P(-0.3)  │        \n",
       "q_2: ───────────────────────────■─────────┼────────\n",
       "                                          │P(-0.3) \n",
       "q_3: ─────────────────────────────────────■────────\n",
       "                                                   </pre>"
      ],
      "text/plain": [
       "     ┌───────────┐┌───────────┐                    \n",
       "q_0: ┤0          ├┤0          ├─■──────────────────\n",
       "     │  Ryy(0.3) ││  Rxx(0.3) │ │                  \n",
       "q_1: ┤1          ├┤1          ├─┼─────────■────────\n",
       "     └───────────┘└───────────┘ │P(-0.3)  │        \n",
       "q_2: ───────────────────────────■─────────┼────────\n",
       "                                          │P(-0.3) \n",
       "q_3: ─────────────────────────────────────■────────\n",
       "                                                   "
      ]
     },
     "execution_count": 71,
     "metadata": {},
     "output_type": "execute_result"
    }
   ],
   "source": [
    "from qiskit import QuantumCircuit\n",
    "\n",
    "#Create a circuit with 4 qubits, representing 2 sites with spin up and spin down.\n",
    "qc = QuantumCircuit(4)\n",
    "#Time step tau in the unit of h_bar/J.\n",
    "tau = 0.3\n",
    "#Ratio of U/J.\n",
    "u = 1\n",
    "#Angle for the K-gate.\n",
    "theta = tau\n",
    "#Angle for the CPhase gate.\n",
    "phi = -tau*u\n",
    "#The K-gate representing hopping term in HH.\n",
    "qc.ryy(theta,0,1)\n",
    "qc.rxx(theta,0,1)\n",
    "#The CPhase gates for onsite interactions.\n",
    "qc.cp(phi,0,2)\n",
    "qc.cp(phi,1,3)\n",
    "#Draw the circuit.\n",
    "qc.draw()\n"
   ]
  },
  {
   "cell_type": "code",
   "execution_count": 72,
   "metadata": {},
   "outputs": [],
   "source": [
    "#Save the circuit as one Trotter step.\n",
    "trotter = qc.to_gate()"
   ]
  },
  {
   "cell_type": "code",
   "execution_count": 73,
   "metadata": {},
   "outputs": [
    {
     "data": {
      "text/html": [
       "<pre style=\"word-wrap: normal;white-space: pre;background: #fff0;line-height: 1.1;font-family: &quot;Courier New&quot;,Courier,monospace\">     ┌──────────────┐┌──────────────┐┌──────────────┐┌─┐         \n",
       "q_0: ┤0             ├┤0             ├┤0             ├┤M├─────────\n",
       "     │              ││              ││              │└╥┘┌─┐      \n",
       "q_1: ┤1             ├┤1             ├┤1             ├─╫─┤M├──────\n",
       "     │  circuit-102 ││  circuit-102 ││  circuit-102 │ ║ └╥┘┌─┐   \n",
       "q_2: ┤2             ├┤2             ├┤2             ├─╫──╫─┤M├───\n",
       "     │              ││              ││              │ ║  ║ └╥┘┌─┐\n",
       "q_3: ┤3             ├┤3             ├┤3             ├─╫──╫──╫─┤M├\n",
       "     └──────────────┘└──────────────┘└──────────────┘ ║  ║  ║ └╥┘\n",
       "c: 4/═════════════════════════════════════════════════╩══╩══╩══╩═\n",
       "                                                      0  1  2  3 </pre>"
      ],
      "text/plain": [
       "     ┌──────────────┐┌──────────────┐┌──────────────┐┌─┐         \n",
       "q_0: ┤0             ├┤0             ├┤0             ├┤M├─────────\n",
       "     │              ││              ││              │└╥┘┌─┐      \n",
       "q_1: ┤1             ├┤1             ├┤1             ├─╫─┤M├──────\n",
       "     │  circuit-102 ││  circuit-102 ││  circuit-102 │ ║ └╥┘┌─┐   \n",
       "q_2: ┤2             ├┤2             ├┤2             ├─╫──╫─┤M├───\n",
       "     │              ││              ││              │ ║  ║ └╥┘┌─┐\n",
       "q_3: ┤3             ├┤3             ├┤3             ├─╫──╫──╫─┤M├\n",
       "     └──────────────┘└──────────────┘└──────────────┘ ║  ║  ║ └╥┘\n",
       "c: 4/═════════════════════════════════════════════════╩══╩══╩══╩═\n",
       "                                                      0  1  2  3 "
      ]
     },
     "execution_count": 73,
     "metadata": {},
     "output_type": "execute_result"
    }
   ],
   "source": [
    "circuit = QuantumCircuit(4,4)\n",
    "#The number of Trotter steps.\n",
    "nsteps = 3\n",
    "#Apply the steps.\n",
    "for i in range(nsteps):\n",
    "    circuit.append(trotter,[0,1,2,3])\n",
    "measurement = circuit.measure([0,1,2,3],[0,1,2,3])\n",
    "circuit.draw()"
   ]
  }
 ],
 "metadata": {
  "interpreter": {
   "hash": "40d3a090f54c6569ab1632332b64b2c03c39dcf918b08424e98f38b5ae0af88f"
  },
  "kernelspec": {
   "display_name": "Python 3.7.4 64-bit ('base': conda)",
   "language": "python",
   "name": "python3"
  },
  "language_info": {
   "codemirror_mode": {
    "name": "ipython",
    "version": 3
   },
   "file_extension": ".py",
   "mimetype": "text/x-python",
   "name": "python",
   "nbconvert_exporter": "python",
   "pygments_lexer": "ipython3",
   "version": "3.7.4"
  },
  "orig_nbformat": 4
 },
 "nbformat": 4,
 "nbformat_minor": 2
}
