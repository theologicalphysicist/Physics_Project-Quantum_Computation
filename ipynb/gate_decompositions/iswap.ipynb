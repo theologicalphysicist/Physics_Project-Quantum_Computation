{
 "cells": [
  {
   "cell_type": "code",
   "execution_count": 1,
   "metadata": {},
   "outputs": [
    {
     "name": "stderr",
     "output_type": "stream",
     "text": [
      "configrc.store_credentials:WARNING:2022-03-18 08:53:01,285: Credentials already present. Set overwrite=True to overwrite.\n"
     ]
    }
   ],
   "source": [
    "import numpy as np\n",
    "\n",
    "# Importing standard Qiskit libraries\n",
    "from qiskit.tools.jupyter import *\n",
    "from qiskit.visualization import *\n",
    "# from ibm_quantum_widgets import *\n",
    "from qiskit.providers.aer import QasmSimulator\n",
    "from qiskit import (\n",
    "    QuantumCircuit, \n",
    "    Aer, \n",
    "    IBMQ, \n",
    "    assemble, \n",
    "    transpile,\n",
    "    execute,\n",
    ")\n",
    "from qiskit.test.mock import FakeAthens\n",
    "import math\n",
    "IBMQ.save_account(\"5743a5c607636e43b7431c0370ec874af29cbf102ad69bcfc87a0fbbd1cf560fd841e69aef0e96eb0e1b6e3a59c5c3d72d89623b46f0964099e0195708aa9c05\")"
   ]
  },
  {
   "cell_type": "code",
   "execution_count": 10,
   "metadata": {},
   "outputs": [
    {
     "data": {
      "image/png": "[encoded data removed]",
      "text/plain": [
       "<Figure size 206.852x144.48 with 1 Axes>"
      ]
     },
     "execution_count": 10,
     "metadata": {},
     "output_type": "execute_result"
    }
   ],
   "source": [
    "def getRootiSwapHC(qc=QuantumCircuit(2)):\n",
    "    qc.rxx((math.pi)/4, 0, 1)\n",
    "    qc.ryy(-(math.pi)/4, 0, 1)\n",
    "    return qc.to_instruction(label=\"√iSWAP\")\n",
    "\n",
    "iswap_circuit = QuantumCircuit(2)\n",
    "iswap_circuit.append(getRootiSwapHC(), [0, 1])\n",
    "iswap_circuit.draw(output=\"mpl\")\n",
    "\n",
    "# qc = QuantumCircuit(2)\n",
    "# qc.rxx((math.pi)/4, 0, 1)\n",
    "# qc.ryy((math.pi)/4, 0, 1)\n",
    "# qc.draw(output=\"mpl\")\n",
    "\n",
    "# decom_circuit = QuantumCircuit(2)\n",
    "# decom_circuit.rxx((math.pi)/4, 0, 1)\n",
    "# decom_circuit.ryy(-(math.pi)/4, 0, 1)\n",
    "# decom_circuit.draw(output=\"mpl\")"
   ]
  },
  {
   "cell_type": "code",
   "execution_count": 11,
   "metadata": {},
   "outputs": [
    {
     "data": {
      "image/png": "[encoded data removed]",
      "text/plain": [
       "<Figure size 327.252x144.48 with 1 Axes>"
      ]
     },
     "execution_count": 11,
     "metadata": {},
     "output_type": "execute_result"
    }
   ],
   "source": [
    "def arbitGate(label, qc=QuantumCircuit(1)):\n",
    "\treturn qc.to_instruction(label=label)\n",
    "\n",
    "qc = QuantumCircuit(2)\n",
    "qc.z(0)\n",
    "qc.rxx((math.pi)/4, 0, 1)\n",
    "qc.ryy((math.pi)/4, 0, 1)\n",
    "qc.z(0)\n",
    "qc.draw(output=\"mpl\")"
   ]
  },
  {
   "cell_type": "code",
   "execution_count": null,
   "metadata": {},
   "outputs": [],
   "source": []
  }
 ],
 "metadata": {
  "interpreter": {
   "hash": "760d175767dbf372411988ff06dacadc19b08b1481c5d079cc242cb3923ccf9d"
  },
  "kernelspec": {
   "display_name": "Python 3.8.10 64-bit",
   "language": "python",
   "name": "python3"
  },
  "language_info": {
   "codemirror_mode": {
    "name": "ipython",
    "version": 3
   },
   "file_extension": ".py",
   "mimetype": "text/x-python",
   "name": "python",
   "nbconvert_exporter": "python",
   "pygments_lexer": "ipython3",
   "version": "3.8.10"
  },
  "orig_nbformat": 4
 },
 "nbformat": 4,
 "nbformat_minor": 2
}
